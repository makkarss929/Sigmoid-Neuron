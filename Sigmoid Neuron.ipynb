{
 "cells": [
  {
   "cell_type": "code",
   "execution_count": 4,
   "metadata": {},
   "outputs": [],
   "source": [
    "import numpy as np\n",
    "from tqdm import tqdm_notebook"
   ]
  },
  {
   "cell_type": "code",
   "execution_count": 23,
   "metadata": {},
   "outputs": [],
   "source": [
    "class sigmoidNeuron:\n",
    "    \n",
    "    def __init__(self):\n",
    "        self.w = None\n",
    "        self.b = None\n",
    "        \n",
    "    def model(self,x):\n",
    "        return np.dot(x,self.w.T) + self.b\n",
    "    \n",
    "    def sigmoid(self,x):\n",
    "        return 1.0/(1.0 + np.exp(x))\n",
    "    \n",
    "    def grad_w(self,x,y):\n",
    "        y_pred = self.sigmoid(self.model(x))\n",
    "        return (y_pred - y)*y_pred*(1 - y_pred)*x\n",
    "    \n",
    "    def grad_b(self,x,y):\n",
    "        y_pred = self.sigmoid(self.model(x))\n",
    "        return (y_pred - y)*y_pred*(1 - y_pred)\n",
    "    \n",
    "    def predict(X):\n",
    "        Y_pred = []\n",
    "        for x in X:\n",
    "            y_pred = self.sigmoid(self.model(x))\n",
    "            Y_pred.append(y_pred)\n",
    "        return np.array(Y_pred)\n",
    "    \n",
    "    def fit(self,X,Y,epochs = 1,eta = 1,intialize = True):\n",
    "        \n",
    "        # Intialize w,b\n",
    "        if intialize:\n",
    "            self.w = np.random.randn(1,X.shape[1])\n",
    "            self.b = 0\n",
    "        \n",
    "        for i in tqdm_notebook(range(epochs),total=epochs,unit='epoch'):\n",
    "            dw = 0\n",
    "            db = 0\n",
    "            for x,y in zip(X,Y):\n",
    "                dw += self.grad_w(x,y)\n",
    "                db += self.grad_b(x,y)\n",
    "                \n",
    "            self.w -= eta*dw\n",
    "            self.b -= eta*db"
   ]
  },
  {
   "cell_type": "markdown",
   "metadata": {},
   "source": [
    "## Fit for toy data"
   ]
  },
  {
   "cell_type": "code",
   "execution_count": 18,
   "metadata": {},
   "outputs": [],
   "source": [
    "X = np.asarray([[2.5,2.5],[4,-1],[1,-4],[3,1.25],[2,4],[1,5]])\n",
    "Y = [1,1,1,0,0,0]"
   ]
  },
  {
   "cell_type": "code",
   "execution_count": 19,
   "metadata": {},
   "outputs": [],
   "source": [
    "sn = sigmoidNeuron()\n",
    "sn.fit(X,Y,5,0.25,True)"
   ]
  },
  {
   "cell_type": "code",
   "execution_count": 22,
   "metadata": {},
   "outputs": [
    {
     "name": "stdout",
     "output_type": "stream",
     "text": [
      "[[ 1.32957487 -1.1209001 ]] [-0.02470367]\n",
      "[[-1.47338104 -1.08811046]] [0.10973069]\n",
      "[[ 1.3984143  -0.08009306]] [0.16894371]\n",
      "[[ 0.11203715 -1.28889196]] [-0.01931484]\n",
      "[[-0.75591489  3.09824233]] [-0.02082363]\n",
      "[[ 1.93869225 -1.4454309 ]] [0.02499081]\n",
      "[[-1.11156593 -0.6006637 ]] [-0.16780639]\n",
      "[[ 0.82443545 -1.06891553]] [-0.03011193]\n",
      "[[-1.33278886  0.82039395]] [-0.05137805]\n",
      "[[-1.3017386  -1.04587495]] [0.10058837]\n",
      "[[1.16833171 1.39153366]] [0.07592615]\n",
      "[[-1.00697408 -0.98610251]] [0.03732856]\n",
      "[[-0.01411591 -1.86915231]] [0.10244195]\n",
      "[[4.46239269 0.28599535]] [0.06846715]\n",
      "[[ 0.34069228 -1.35305261]] [-0.10067644]\n",
      "[[1.53119314 1.49944014]] [0.01435968]\n",
      "[[0.84470138 0.30974153]] [0.24393047]\n",
      "[[-0.92028808 -0.96205005]] [-0.02038906]\n",
      "[[-1.2690171   1.81059952]] [0.04161546]\n",
      "[[-0.25979278 -1.07032709]] [-0.05174688]\n"
     ]
    }
   ],
   "source": [
    "for i in range(20):\n",
    "    print(sn.w,sn.b)\n",
    "    sn.fit(X,Y,5,0.25,True)"
   ]
  },
  {
   "cell_type": "code",
   "execution_count": null,
   "metadata": {},
   "outputs": [],
   "source": []
  }
 ],
 "metadata": {
  "kernelspec": {
   "display_name": "Python 3.7.3 64-bit ('base': conda)",
   "language": "python",
   "name": "python37364bitbaseconda6f902c76863b4b3ab7cd5fd0c0955139"
  },
  "language_info": {
   "codemirror_mode": {
    "name": "ipython",
    "version": 3
   },
   "file_extension": ".py",
   "mimetype": "text/x-python",
   "name": "python",
   "nbconvert_exporter": "python",
   "pygments_lexer": "ipython3",
   "version": "3.7.3"
  }
 },
 "nbformat": 4,
 "nbformat_minor": 2
}
